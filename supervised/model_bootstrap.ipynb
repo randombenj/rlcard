{
 "cells": [
  {
   "cell_type": "code",
   "execution_count": 423,
   "id": "radio-differential",
   "metadata": {},
   "outputs": [],
   "source": [
    "import numpy as np\n",
    "import pandas as pd\n",
    "from pathlib import Path\n",
    "\n",
    "from torch.utils.data import Dataset\n",
    "\n",
    "from jass.game.const import card_ids\n",
    "from jass.game.game_util import get_cards_encoded_from_str\n",
    "\n",
    "\n",
    "class JassRoundDataset(Dataset):\n",
    "    def __init__(self, data_dir: str = \"./data\", train=True):\n",
    "        data_files = (Path(data_dir) / (\"train\" if train else \"test\")).glob(\"*.txt\")\n",
    "        self.jass_rounds = pd.read_json(next(data_files), nrows=10, lines=True)\n",
    "\n",
    "    def __len__(self):\n",
    "        return len(self.jass_rounds)\n",
    "\n",
    "    def __getitem__(self, idx):\n",
    "        jass_round = self.jass_rounds.iloc[idx].to_dict()\n",
    "        \n",
    "        # -- action\n",
    "        action = np.zeros(36)\n",
    "        action[jass_round[\"action\"]]\n",
    "        \n",
    "        jass_round = jass_round[\"obs\"]\n",
    "        \n",
    "        # -- reward\n",
    "        jass_round_reward = (jass_round[\"points\"][\"0\"] - jass_round[\"points\"][\"1\"]) / 157\n",
    "        if jass_round[\"currentPlayer\"] in [1, 3]:\n",
    "            jass_round_reward = jass_round_reward * -1\n",
    "        \n",
    "        # -- state\n",
    "        others_hand = np.ones(36)\n",
    "        current_hand = get_cards_encoded_from_str(\n",
    "            jass_round[\"player\"][jass_round[\"currentPlayer\"]][\"hand\"]\n",
    "        )\n",
    "        for i in np.where(current_hand == 1):\n",
    "            others_hand[i] = 0\n",
    "        \n",
    "        \n",
    "        trick_first_player = [[0, 0, 0, 0] for _ in range(9)]\n",
    "        trick_winner = [[0, 0, 0, 0] for _ in range(9)]\n",
    "\n",
    "        tricks = np.array([[np.zeros(36), np.zeros(36), np.zeros(36), np.zeros(36)] for _ in range(9)])\n",
    "        played_cards = np.array([[np.zeros(36), np.zeros(36), np.zeros(36), np.zeros(36)] for _ in range(9)])\n",
    "\n",
    "        for game_round, trick in enumerate(jass_round[\"tricks\"]):\n",
    "            if \"cards\" in trick:\n",
    "                for trick_index, trick_card in enumerate(trick[\"cards\"]):\n",
    "                    trick_card = card_ids[trick_card]\n",
    "                    \n",
    "                    current_card_player = (trick[\"first\"] + trick_index) % 4\n",
    "                    others_hand[trick_card] = 0\n",
    "                    \n",
    "                    trick_first_player[game_round][trick[\"first\"]] = 1\n",
    "\n",
    "                    if \"win\" in trick:\n",
    "                        trick_winner[game_round][trick[\"win\"]] = 1\n",
    "\n",
    "                    played_cards[game_round][current_card_player][trick_card] = 1\n",
    "                    tricks[game_round][trick_index][trick_card] = 1\n",
    "        \n",
    "        trump = np.zeros(6)\n",
    "        trump[jass_round[\"trump\"]] = 1\n",
    "        \n",
    "        state_obs = np.concatenate((\n",
    "            current_hand,\n",
    "            others_hand,\n",
    "            np.concatenate(\n",
    "                [np.concatenate(t) for t in tricks]\n",
    "            ),\n",
    "            np.concatenate(\n",
    "                [np.concatenate(t) for t in played_cards]\n",
    "            ),\n",
    "            np.concatenate(trick_first_player),\n",
    "            np.concatenate(trick_winner),\n",
    "            trump,\n",
    "            [jass_round[\"forehand\"]],\n",
    "            action\n",
    "        ))\n",
    "        \n",
    "        return torch.tensor(state_obs), torch.tensor(jass_round_reward)"
   ]
  },
  {
   "cell_type": "code",
   "execution_count": 424,
   "id": "behind-assault",
   "metadata": {},
   "outputs": [],
   "source": [
    "import torch\n",
    "from typing import Optional\n",
    "\n",
    "import pytorch_lightning as pl\n",
    "from torch.utils.data import random_split, DataLoader\n",
    "\n",
    "\n",
    "class JassDataModule(pl.LightningDataModule):\n",
    "    def __init__(self, data_dir: str = \"./data\"):\n",
    "        super().__init__()\n",
    "        self.data_dir = data_dir\n",
    "\n",
    "    def setup(self, stage: Optional[str] = None):\n",
    "        # Assign train/val datasets for use in dataloaders\n",
    "        if stage == \"fit\" or stage is None:\n",
    "            jass_full = JassRoundDataset(self.data_dir, train=True)\n",
    "            lengths = [int(len(jass_full) * 0.8), int(len(jass_full) * 0.2)]\n",
    "            self.jass_train, self.jass_val = random_split(\n",
    "                jass_full,\n",
    "                lengths, \n",
    "                generator=torch.Generator().manual_seed(42)\n",
    "            )\n",
    "\n",
    "        # Assign test dataset for use in dataloader(s)\n",
    "        if stage == \"test\" or stage is None:\n",
    "            raise NotImplementedError(\"test_not_implemented\")\n",
    "\n",
    "        if stage == \"predict\" or stage is None:\n",
    "            raise NotImplementedError(\"predict not implemented\")\n",
    "\n",
    "    def train_dataloader(self):\n",
    "        return DataLoader(self.jass_train, batch_size=32)\n",
    "\n",
    "    def val_dataloader(self):\n",
    "        return DataLoader(self.jass_val, batch_size=32)\n",
    "\n",
    "    def test_dataloader(self):\n",
    "        return DataLoader(self.jass_test, batch_size=32)\n",
    "\n",
    "    def predict_dataloader(self):\n",
    "        return DataLoader(self.jass_predict, batch_size=32)"
   ]
  },
  {
   "cell_type": "code",
   "execution_count": 425,
   "id": "digital-official",
   "metadata": {},
   "outputs": [],
   "source": [
    "jass_data = JassDataModule()"
   ]
  },
  {
   "cell_type": "code",
   "execution_count": 426,
   "id": "hispanic-relaxation",
   "metadata": {},
   "outputs": [],
   "source": [
    "jass_data.setup(\"fit\")"
   ]
  },
  {
   "cell_type": "code",
   "execution_count": 427,
   "id": "statewide-tunisia",
   "metadata": {},
   "outputs": [],
   "source": [
    "dl = jass_data.train_dataloader()"
   ]
  },
  {
   "cell_type": "code",
   "execution_count": 428,
   "id": "chinese-edward",
   "metadata": {},
   "outputs": [
    {
     "data": {
      "text/plain": [
       "1"
      ]
     },
     "execution_count": 428,
     "metadata": {},
     "output_type": "execute_result"
    }
   ],
   "source": [
    "len(dl)"
   ]
  },
  {
   "cell_type": "code",
   "execution_count": 429,
   "id": "challenging-capitol",
   "metadata": {
    "scrolled": false
   },
   "outputs": [
    {
     "data": {
      "text/plain": [
       "[tensor([[0., 0., 0.,  ..., 0., 0., 0.],\n",
       "         [0., 0., 1.,  ..., 0., 0., 0.],\n",
       "         [1., 1., 0.,  ..., 0., 0., 0.],\n",
       "         ...,\n",
       "         [0., 0., 0.,  ..., 0., 0., 0.],\n",
       "         [0., 0., 0.,  ..., 0., 0., 0.],\n",
       "         [0., 0., 1.,  ..., 0., 0., 0.]], dtype=torch.float64),\n",
       " tensor([-0.6306,  0.6306,  0.6306, -0.6306,  0.6306, -0.6306, -0.6306,  0.6306])]"
      ]
     },
     "execution_count": 429,
     "metadata": {},
     "output_type": "execute_result"
    }
   ],
   "source": [
    "next(iter(dl))"
   ]
  },
  {
   "cell_type": "code",
   "execution_count": null,
   "id": "crucial-opposition",
   "metadata": {},
   "outputs": [],
   "source": []
  },
  {
   "cell_type": "code",
   "execution_count": null,
   "id": "seven-melbourne",
   "metadata": {},
   "outputs": [],
   "source": []
  },
  {
   "cell_type": "code",
   "execution_count": null,
   "id": "cloudy-density",
   "metadata": {},
   "outputs": [],
   "source": []
  },
  {
   "cell_type": "code",
   "execution_count": null,
   "id": "recovered-villa",
   "metadata": {},
   "outputs": [],
   "source": []
  }
 ],
 "metadata": {
  "kernelspec": {
   "display_name": "Python 3",
   "language": "python",
   "name": "python3"
  },
  "language_info": {
   "codemirror_mode": {
    "name": "ipython",
    "version": 3
   },
   "file_extension": ".py",
   "mimetype": "text/x-python",
   "name": "python",
   "nbconvert_exporter": "python",
   "pygments_lexer": "ipython3",
   "version": "3.8.10"
  }
 },
 "nbformat": 4,
 "nbformat_minor": 5
}
