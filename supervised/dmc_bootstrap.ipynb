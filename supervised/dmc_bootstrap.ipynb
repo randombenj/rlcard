{
 "cells": [
  {
   "cell_type": "code",
   "execution_count": 110,
   "id": "welcome-corrections",
   "metadata": {},
   "outputs": [],
   "source": [
    "import ast\n",
    "import json\n",
    "import numpy as np\n",
    "import pandas as pd\n",
    "\n",
    "from jass.game.const import trump_strings_short"
   ]
  },
  {
   "cell_type": "code",
   "execution_count": 47,
   "id": "compatible-pharmacy",
   "metadata": {},
   "outputs": [],
   "source": [
    "df = pd.read_json(\"data/jass_game_0001.txt\", lines=True)"
   ]
  },
  {
   "cell_type": "code",
   "execution_count": 48,
   "id": "original-relation",
   "metadata": {},
   "outputs": [
    {
     "data": {
      "text/html": [
       "<div>\n",
       "<style scoped>\n",
       "    .dataframe tbody tr th:only-of-type {\n",
       "        vertical-align: middle;\n",
       "    }\n",
       "\n",
       "    .dataframe tbody tr th {\n",
       "        vertical-align: top;\n",
       "    }\n",
       "\n",
       "    .dataframe thead th {\n",
       "        text-align: right;\n",
       "    }\n",
       "</style>\n",
       "<table border=\"1\" class=\"dataframe\">\n",
       "  <thead>\n",
       "    <tr style=\"text-align: right;\">\n",
       "      <th></th>\n",
       "      <th>game</th>\n",
       "      <th>date</th>\n",
       "      <th>player_ids</th>\n",
       "    </tr>\n",
       "  </thead>\n",
       "  <tbody>\n",
       "    <tr>\n",
       "      <th>0</th>\n",
       "      <td>{'version': 'V0.2', 'trump': 1, 'dealer': 2, '...</td>\n",
       "      <td>2017-10-13 22:31:05</td>\n",
       "      <td>[58663, 21516, 41630, 70654]</td>\n",
       "    </tr>\n",
       "    <tr>\n",
       "      <th>1</th>\n",
       "      <td>{'version': 'V0.2', 'trump': 1, 'dealer': 0, '...</td>\n",
       "      <td>2017-10-13 22:47:34</td>\n",
       "      <td>[36972, 67618, 5202, 60659]</td>\n",
       "    </tr>\n",
       "    <tr>\n",
       "      <th>2</th>\n",
       "      <td>{'version': 'V0.2', 'trump': 3, 'dealer': 1, '...</td>\n",
       "      <td>2017-10-22 21:37:52</td>\n",
       "      <td>[0, 0, 0, 0]</td>\n",
       "    </tr>\n",
       "    <tr>\n",
       "      <th>3</th>\n",
       "      <td>{'version': 'V0.2', 'trump': 2, 'dealer': 3, '...</td>\n",
       "      <td>2017-10-23 14:46:16</td>\n",
       "      <td>[0, 0, 0, 0]</td>\n",
       "    </tr>\n",
       "    <tr>\n",
       "      <th>4</th>\n",
       "      <td>{'version': 'V0.2', 'trump': 1, 'dealer': 1, '...</td>\n",
       "      <td>2017-10-23 16:10:02</td>\n",
       "      <td>[14476, 68780, 57175, 45129]</td>\n",
       "    </tr>\n",
       "  </tbody>\n",
       "</table>\n",
       "</div>"
      ],
      "text/plain": [
       "                                                game                date  \\\n",
       "0  {'version': 'V0.2', 'trump': 1, 'dealer': 2, '... 2017-10-13 22:31:05   \n",
       "1  {'version': 'V0.2', 'trump': 1, 'dealer': 0, '... 2017-10-13 22:47:34   \n",
       "2  {'version': 'V0.2', 'trump': 3, 'dealer': 1, '... 2017-10-22 21:37:52   \n",
       "3  {'version': 'V0.2', 'trump': 2, 'dealer': 3, '... 2017-10-23 14:46:16   \n",
       "4  {'version': 'V0.2', 'trump': 1, 'dealer': 1, '... 2017-10-23 16:10:02   \n",
       "\n",
       "                     player_ids  \n",
       "0  [58663, 21516, 41630, 70654]  \n",
       "1   [36972, 67618, 5202, 60659]  \n",
       "2                  [0, 0, 0, 0]  \n",
       "3                  [0, 0, 0, 0]  \n",
       "4  [14476, 68780, 57175, 45129]  "
      ]
     },
     "execution_count": 48,
     "metadata": {},
     "output_type": "execute_result"
    }
   ],
   "source": [
    "df.head()"
   ]
  },
  {
   "cell_type": "code",
   "execution_count": 56,
   "id": "discrete-process",
   "metadata": {},
   "outputs": [],
   "source": [
    "def extract_game(df: pd.DataFrame) -> pd.DataFrame:\n",
    "    return pd.json_normalize(df[\"game\"])"
   ]
  },
  {
   "cell_type": "code",
   "execution_count": 102,
   "id": "functioning-hollywood",
   "metadata": {},
   "outputs": [],
   "source": [
    "def drop_unused_columns(df: pd.DataFrame) -> pd.DataFrame:\n",
    "    return df.drop([\n",
    "        \"player\",\n",
    "        \"currentPlayer\",\n",
    "        \"version\",\n",
    "        \"jassTyp\"\n",
    "    ], axis=1)"
   ]
  },
  {
   "cell_type": "code",
   "execution_count": 103,
   "id": "bronze-accountability",
   "metadata": {},
   "outputs": [],
   "source": [
    "def one_hot_trump(df: pd.DataFrame) -> pd.DataFrame:\n",
    "    y = pd.get_dummies(df.trump, prefix=\"trump\")\n",
    "    df.drop([\"trump\"], axis=1, inplace=True)\n",
    "    return pd.concat([df, y], axis=1)"
   ]
  },
  {
   "cell_type": "code",
   "execution_count": 125,
   "id": "linear-production",
   "metadata": {},
   "outputs": [],
   "source": [
    "def calc_player_hand(df: pd.DataFrame) -> pd.DataFrame:\n",
    "    def __get_player_hands(row):\n",
    "        tricks = row.tricks\n",
    "        players = pd.Series([[] for _ in range(4)], index=[f\"player_{i}_hand\" for i in range(4)])\n",
    "        for trick in tricks:\n",
    "            cards, first = trick[\"cards\"], trick[\"first\"]\n",
    "            for player_index, card in enumerate(cards):\n",
    "                players[f\"player_{(first + player_index) % 4}_hand\"].append(card)\n",
    "        return pd.concat([row, players])\n",
    "                \n",
    "    return df.apply(__get_player_hands, axis=1, result_type='expand')"
   ]
  },
  {
   "cell_type": "code",
   "execution_count": 267,
   "id": "sexual-filling",
   "metadata": {},
   "outputs": [],
   "source": [
    "def game_to_rounds(df: pd.DataFrame) -> pd.DataFrame:\n",
    "    def __expand_df(raw_tricks):\n",
    "        #print(raw_tricks)\n",
    "        expanded_trick_rounds = pd.DataFrame(columns=[\n",
    "            \"player\", \n",
    "            \"winner\", \n",
    "            \"first\", \n",
    "            \"tricks\"\n",
    "        ])\n",
    "        for game_round, trick in enumerate(raw_tricks):\n",
    "            (cards, points, winner, first_player) = trick[\"cards\"], trick[\"points\"], trick[\"win\"], trick[\"first\"]\n",
    "            for round_index, card in enumerate(cards):\n",
    "                current_player = (first_player + round_index) % 4\n",
    "                tricks = [r[\"cards\"] for r in raw_tricks[:game_round]]\n",
    "                tricks.append([\"\" for _ in range(4)])\n",
    "                for i in range(round_index + 1):\n",
    "                    #print(i)\n",
    "                    #print(tricks[game_round])\n",
    "                    tricks[game_round][i] = cards[i]\n",
    "\n",
    "                expanded_trick_rounds.append({\n",
    "                    \"player\": current_player,\n",
    "                    \"winner\": winner,\n",
    "                    \"first_player\": first_player,\n",
    "                    \"tricks\": tricks\n",
    "                }, ignore_index=True)\n",
    "        return expanded_trick_rounds\n",
    "        \n",
    "    expanded_tricks = {k: __expand_df(v) for k, v in df.pop(\"tricks\").items()}\n",
    "    \n",
    "    #expanded_trick_rounds = []\n",
    "    \n",
    "    #print(next(df.pop(\"tricks\").items()))\n",
    "\n",
    "            \n",
    "    \n",
    "    return df.join(expanded_tricks, rsuffix='_').reset_index(drop=True)"
   ]
  },
  {
   "cell_type": "code",
   "execution_count": 268,
   "id": "other-stuart",
   "metadata": {},
   "outputs": [],
   "source": [
    "def one_hot_cards(df: pd.DataFrame) -> pd.DataFrame:\n",
    "    df.tricks.apply()"
   ]
  },
  {
   "cell_type": "code",
   "execution_count": 269,
   "id": "unlike-generation",
   "metadata": {},
   "outputs": [
    {
     "ename": "TypeError",
     "evalue": "Can only append a dict if ignore_index=True",
     "output_type": "error",
     "traceback": [
      "\u001b[0;31m---------------------------------------------------------------------------\u001b[0m",
      "\u001b[0;31mTypeError\u001b[0m                                 Traceback (most recent call last)",
      "\u001b[0;32m<ipython-input-269-760ad03826dd>\u001b[0m in \u001b[0;36m<module>\u001b[0;34m\u001b[0m\n\u001b[0;32m----> 1\u001b[0;31m (df[:100].pipe(extract_game)\n\u001b[0m\u001b[1;32m      2\u001b[0m      \u001b[0;34m.\u001b[0m\u001b[0mpipe\u001b[0m\u001b[0;34m(\u001b[0m\u001b[0mdrop_unused_columns\u001b[0m\u001b[0;34m)\u001b[0m\u001b[0;34m\u001b[0m\u001b[0;34m\u001b[0m\u001b[0m\n\u001b[1;32m      3\u001b[0m      \u001b[0;34m.\u001b[0m\u001b[0mpipe\u001b[0m\u001b[0;34m(\u001b[0m\u001b[0mone_hot_trump\u001b[0m\u001b[0;34m)\u001b[0m\u001b[0;34m\u001b[0m\u001b[0;34m\u001b[0m\u001b[0m\n\u001b[1;32m      4\u001b[0m      \u001b[0;34m.\u001b[0m\u001b[0mpipe\u001b[0m\u001b[0;34m(\u001b[0m\u001b[0mcalc_player_hand\u001b[0m\u001b[0;34m)\u001b[0m\u001b[0;34m\u001b[0m\u001b[0;34m\u001b[0m\u001b[0m\n\u001b[1;32m      5\u001b[0m      \u001b[0;34m.\u001b[0m\u001b[0mpipe\u001b[0m\u001b[0;34m(\u001b[0m\u001b[0mgame_to_rounds\u001b[0m\u001b[0;34m)\u001b[0m\u001b[0;34m\u001b[0m\u001b[0;34m\u001b[0m\u001b[0m\n",
      "\u001b[0;32m~/.local/lib/python3.8/site-packages/pandas/core/generic.py\u001b[0m in \u001b[0;36mpipe\u001b[0;34m(self, func, *args, **kwargs)\u001b[0m\n\u001b[1;32m   5404\u001b[0m         ...  )  # doctest: +SKIP\n\u001b[1;32m   5405\u001b[0m         \"\"\"\n\u001b[0;32m-> 5406\u001b[0;31m         \u001b[0;32mreturn\u001b[0m \u001b[0mcom\u001b[0m\u001b[0;34m.\u001b[0m\u001b[0mpipe\u001b[0m\u001b[0;34m(\u001b[0m\u001b[0mself\u001b[0m\u001b[0;34m,\u001b[0m \u001b[0mfunc\u001b[0m\u001b[0;34m,\u001b[0m \u001b[0;34m*\u001b[0m\u001b[0margs\u001b[0m\u001b[0;34m,\u001b[0m \u001b[0;34m**\u001b[0m\u001b[0mkwargs\u001b[0m\u001b[0;34m)\u001b[0m\u001b[0;34m\u001b[0m\u001b[0;34m\u001b[0m\u001b[0m\n\u001b[0m\u001b[1;32m   5407\u001b[0m \u001b[0;34m\u001b[0m\u001b[0m\n\u001b[1;32m   5408\u001b[0m     \u001b[0;31m# ----------------------------------------------------------------------\u001b[0m\u001b[0;34m\u001b[0m\u001b[0;34m\u001b[0m\u001b[0;34m\u001b[0m\u001b[0m\n",
      "\u001b[0;32m~/.local/lib/python3.8/site-packages/pandas/core/common.py\u001b[0m in \u001b[0;36mpipe\u001b[0;34m(obj, func, *args, **kwargs)\u001b[0m\n\u001b[1;32m    438\u001b[0m         \u001b[0;32mreturn\u001b[0m \u001b[0mfunc\u001b[0m\u001b[0;34m(\u001b[0m\u001b[0;34m*\u001b[0m\u001b[0margs\u001b[0m\u001b[0;34m,\u001b[0m \u001b[0;34m**\u001b[0m\u001b[0mkwargs\u001b[0m\u001b[0;34m)\u001b[0m\u001b[0;34m\u001b[0m\u001b[0;34m\u001b[0m\u001b[0m\n\u001b[1;32m    439\u001b[0m     \u001b[0;32melse\u001b[0m\u001b[0;34m:\u001b[0m\u001b[0;34m\u001b[0m\u001b[0;34m\u001b[0m\u001b[0m\n\u001b[0;32m--> 440\u001b[0;31m         \u001b[0;32mreturn\u001b[0m \u001b[0mfunc\u001b[0m\u001b[0;34m(\u001b[0m\u001b[0mobj\u001b[0m\u001b[0;34m,\u001b[0m \u001b[0;34m*\u001b[0m\u001b[0margs\u001b[0m\u001b[0;34m,\u001b[0m \u001b[0;34m**\u001b[0m\u001b[0mkwargs\u001b[0m\u001b[0;34m)\u001b[0m\u001b[0;34m\u001b[0m\u001b[0;34m\u001b[0m\u001b[0m\n\u001b[0m\u001b[1;32m    441\u001b[0m \u001b[0;34m\u001b[0m\u001b[0m\n\u001b[1;32m    442\u001b[0m \u001b[0;34m\u001b[0m\u001b[0m\n",
      "\u001b[0;32m<ipython-input-267-e18ed47ec3c3>\u001b[0m in \u001b[0;36mgame_to_rounds\u001b[0;34m(df)\u001b[0m\n\u001b[1;32m     27\u001b[0m         \u001b[0;32mreturn\u001b[0m \u001b[0mexpanded_trick_rounds\u001b[0m\u001b[0;34m\u001b[0m\u001b[0;34m\u001b[0m\u001b[0m\n\u001b[1;32m     28\u001b[0m \u001b[0;34m\u001b[0m\u001b[0m\n\u001b[0;32m---> 29\u001b[0;31m     \u001b[0mexpanded_tricks\u001b[0m \u001b[0;34m=\u001b[0m \u001b[0;34m{\u001b[0m\u001b[0mk\u001b[0m\u001b[0;34m:\u001b[0m \u001b[0m__expand_df\u001b[0m\u001b[0;34m(\u001b[0m\u001b[0mv\u001b[0m\u001b[0;34m)\u001b[0m \u001b[0;32mfor\u001b[0m \u001b[0mk\u001b[0m\u001b[0;34m,\u001b[0m \u001b[0mv\u001b[0m \u001b[0;32min\u001b[0m \u001b[0mdf\u001b[0m\u001b[0;34m.\u001b[0m\u001b[0mpop\u001b[0m\u001b[0;34m(\u001b[0m\u001b[0;34m\"tricks\"\u001b[0m\u001b[0;34m)\u001b[0m\u001b[0;34m.\u001b[0m\u001b[0mitems\u001b[0m\u001b[0;34m(\u001b[0m\u001b[0;34m)\u001b[0m\u001b[0;34m}\u001b[0m\u001b[0;34m\u001b[0m\u001b[0;34m\u001b[0m\u001b[0m\n\u001b[0m\u001b[1;32m     30\u001b[0m \u001b[0;34m\u001b[0m\u001b[0m\n\u001b[1;32m     31\u001b[0m     \u001b[0;31m#expanded_trick_rounds = []\u001b[0m\u001b[0;34m\u001b[0m\u001b[0;34m\u001b[0m\u001b[0;34m\u001b[0m\u001b[0m\n",
      "\u001b[0;32m<ipython-input-267-e18ed47ec3c3>\u001b[0m in \u001b[0;36m<dictcomp>\u001b[0;34m(.0)\u001b[0m\n\u001b[1;32m     27\u001b[0m         \u001b[0;32mreturn\u001b[0m \u001b[0mexpanded_trick_rounds\u001b[0m\u001b[0;34m\u001b[0m\u001b[0;34m\u001b[0m\u001b[0m\n\u001b[1;32m     28\u001b[0m \u001b[0;34m\u001b[0m\u001b[0m\n\u001b[0;32m---> 29\u001b[0;31m     \u001b[0mexpanded_tricks\u001b[0m \u001b[0;34m=\u001b[0m \u001b[0;34m{\u001b[0m\u001b[0mk\u001b[0m\u001b[0;34m:\u001b[0m \u001b[0m__expand_df\u001b[0m\u001b[0;34m(\u001b[0m\u001b[0mv\u001b[0m\u001b[0;34m)\u001b[0m \u001b[0;32mfor\u001b[0m \u001b[0mk\u001b[0m\u001b[0;34m,\u001b[0m \u001b[0mv\u001b[0m \u001b[0;32min\u001b[0m \u001b[0mdf\u001b[0m\u001b[0;34m.\u001b[0m\u001b[0mpop\u001b[0m\u001b[0;34m(\u001b[0m\u001b[0;34m\"tricks\"\u001b[0m\u001b[0;34m)\u001b[0m\u001b[0;34m.\u001b[0m\u001b[0mitems\u001b[0m\u001b[0;34m(\u001b[0m\u001b[0;34m)\u001b[0m\u001b[0;34m}\u001b[0m\u001b[0;34m\u001b[0m\u001b[0;34m\u001b[0m\u001b[0m\n\u001b[0m\u001b[1;32m     30\u001b[0m \u001b[0;34m\u001b[0m\u001b[0m\n\u001b[1;32m     31\u001b[0m     \u001b[0;31m#expanded_trick_rounds = []\u001b[0m\u001b[0;34m\u001b[0m\u001b[0;34m\u001b[0m\u001b[0;34m\u001b[0m\u001b[0m\n",
      "\u001b[0;32m<ipython-input-267-e18ed47ec3c3>\u001b[0m in \u001b[0;36m__expand_df\u001b[0;34m(raw_tricks)\u001b[0m\n\u001b[1;32m     19\u001b[0m                     \u001b[0mtricks\u001b[0m\u001b[0;34m[\u001b[0m\u001b[0mgame_round\u001b[0m\u001b[0;34m]\u001b[0m\u001b[0;34m[\u001b[0m\u001b[0mi\u001b[0m\u001b[0;34m]\u001b[0m \u001b[0;34m=\u001b[0m \u001b[0mcards\u001b[0m\u001b[0;34m[\u001b[0m\u001b[0mi\u001b[0m\u001b[0;34m]\u001b[0m\u001b[0;34m\u001b[0m\u001b[0;34m\u001b[0m\u001b[0m\n\u001b[1;32m     20\u001b[0m \u001b[0;34m\u001b[0m\u001b[0m\n\u001b[0;32m---> 21\u001b[0;31m                 expanded_trick_rounds.append({\n\u001b[0m\u001b[1;32m     22\u001b[0m                     \u001b[0;34m\"player\"\u001b[0m\u001b[0;34m:\u001b[0m \u001b[0mcurrent_player\u001b[0m\u001b[0;34m,\u001b[0m\u001b[0;34m\u001b[0m\u001b[0;34m\u001b[0m\u001b[0m\n\u001b[1;32m     23\u001b[0m                     \u001b[0;34m\"winner\"\u001b[0m\u001b[0;34m:\u001b[0m \u001b[0mwinner\u001b[0m\u001b[0;34m,\u001b[0m\u001b[0;34m\u001b[0m\u001b[0;34m\u001b[0m\u001b[0m\n",
      "\u001b[0;32m~/.local/lib/python3.8/site-packages/pandas/core/frame.py\u001b[0m in \u001b[0;36mappend\u001b[0;34m(self, other, ignore_index, verify_integrity, sort)\u001b[0m\n\u001b[1;32m   7943\u001b[0m             \u001b[0;32mif\u001b[0m \u001b[0misinstance\u001b[0m\u001b[0;34m(\u001b[0m\u001b[0mother\u001b[0m\u001b[0;34m,\u001b[0m \u001b[0mdict\u001b[0m\u001b[0;34m)\u001b[0m\u001b[0;34m:\u001b[0m\u001b[0;34m\u001b[0m\u001b[0;34m\u001b[0m\u001b[0m\n\u001b[1;32m   7944\u001b[0m                 \u001b[0;32mif\u001b[0m \u001b[0;32mnot\u001b[0m \u001b[0mignore_index\u001b[0m\u001b[0;34m:\u001b[0m\u001b[0;34m\u001b[0m\u001b[0;34m\u001b[0m\u001b[0m\n\u001b[0;32m-> 7945\u001b[0;31m                     \u001b[0;32mraise\u001b[0m \u001b[0mTypeError\u001b[0m\u001b[0;34m(\u001b[0m\u001b[0;34m\"Can only append a dict if ignore_index=True\"\u001b[0m\u001b[0;34m)\u001b[0m\u001b[0;34m\u001b[0m\u001b[0;34m\u001b[0m\u001b[0m\n\u001b[0m\u001b[1;32m   7946\u001b[0m                 \u001b[0mother\u001b[0m \u001b[0;34m=\u001b[0m \u001b[0mSeries\u001b[0m\u001b[0;34m(\u001b[0m\u001b[0mother\u001b[0m\u001b[0;34m)\u001b[0m\u001b[0;34m\u001b[0m\u001b[0;34m\u001b[0m\u001b[0m\n\u001b[1;32m   7947\u001b[0m             \u001b[0;32mif\u001b[0m \u001b[0mother\u001b[0m\u001b[0;34m.\u001b[0m\u001b[0mname\u001b[0m \u001b[0;32mis\u001b[0m \u001b[0;32mNone\u001b[0m \u001b[0;32mand\u001b[0m \u001b[0;32mnot\u001b[0m \u001b[0mignore_index\u001b[0m\u001b[0;34m:\u001b[0m\u001b[0;34m\u001b[0m\u001b[0;34m\u001b[0m\u001b[0m\n",
      "\u001b[0;31mTypeError\u001b[0m: Can only append a dict if ignore_index=True"
     ]
    }
   ],
   "source": [
    "(df[:100].pipe(extract_game)\n",
    "     .pipe(drop_unused_columns)\n",
    "     .pipe(one_hot_trump)\n",
    "     .pipe(calc_player_hand)\n",
    "     .pipe(game_to_rounds)\n",
    ").head()"
   ]
  },
  {
   "cell_type": "code",
   "execution_count": null,
   "id": "attended-module",
   "metadata": {
    "scrolled": true
   },
   "outputs": [],
   "source": [
    "df['game'][0]"
   ]
  },
  {
   "cell_type": "code",
   "execution_count": null,
   "id": "quarterly-senate",
   "metadata": {},
   "outputs": [],
   "source": []
  }
 ],
 "metadata": {
  "kernelspec": {
   "display_name": "Python 3",
   "language": "python",
   "name": "python3"
  },
  "language_info": {
   "codemirror_mode": {
    "name": "ipython",
    "version": 3
   },
   "file_extension": ".py",
   "mimetype": "text/x-python",
   "name": "python",
   "nbconvert_exporter": "python",
   "pygments_lexer": "ipython3",
   "version": "3.8.10"
  }
 },
 "nbformat": 4,
 "nbformat_minor": 5
}
